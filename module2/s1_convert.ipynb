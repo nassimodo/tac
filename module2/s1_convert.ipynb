{
 "metadata": {
  "language_info": {
   "codemirror_mode": {
    "name": "ipython",
    "version": 3
   },
   "file_extension": ".py",
   "mimetype": "text/x-python",
   "name": "python",
   "nbconvert_exporter": "python",
   "pygments_lexer": "ipython3",
   "version": "3.8.2-final"
  },
  "orig_nbformat": 2,
  "kernelspec": {
   "name": "Python 3.8.2 64-bit",
   "display_name": "Python 3.8.2 64-bit",
   "metadata": {
    "interpreter": {
     "hash": "31f2aee4e71d21fbe5cf8b01ff0e069b9275f58929596ceb00d14d90e3e16cd6"
    }
   }
  }
 },
 "nbformat": 4,
 "nbformat_minor": 2,
 "cells": [
  {
   "source": [
    "# Converting PDFs to text files and moving them to a new directory"
   ],
   "cell_type": "markdown",
   "metadata": {}
  },
  {
   "source": [
    "## Lister les fichiers dans `data/pdf`"
   ],
   "cell_type": "markdown",
   "metadata": {}
  },
  {
   "cell_type": "code",
   "execution_count": 20,
   "metadata": {},
   "outputs": [],
   "source": [
    "from os import listdir\n",
    "from os.path import isfile, join\n",
    "\n",
    "pdf_path = '../data/pdf'\n",
    "\n",
    "pdfs = [f for f in listdir(pdf_path) if isfile(join(pdf_path, f))]"
   ]
  },
  {
   "cell_type": "code",
   "execution_count": 21,
   "metadata": {},
   "outputs": [
    {
     "output_type": "execute_result",
     "data": {
      "text/plain": [
       "['Bxl_1851_Tome_I1_Part_2.pdf',\n",
       " 'Bxl_1851_Tome_I1_Part_3.pdf',\n",
       " 'Bxl_1851_Tome_I1_Part_1.pdf']"
      ]
     },
     "metadata": {},
     "execution_count": 21
    }
   ],
   "source": [
    "pdfs[:3]"
   ]
  },
  {
   "cell_type": "code",
   "execution_count": 22,
   "metadata": {},
   "outputs": [
    {
     "output_type": "execute_result",
     "data": {
      "text/plain": [
       "100"
      ]
     },
     "metadata": {},
     "execution_count": 22
    }
   ],
   "source": [
    "len(pdfs)"
   ]
  },
  {
   "source": [
    "## Installer PdfToText (MacOS)\n",
    "\n",
    "Sur le terminal, lancer :\n",
    "\n",
    "```\n",
    "ruby -e \"$(curl -fsSL https://raw.githubusercontent.com/Homebrew/install/master/install)\" < /dev/null 2> /dev/null ; brew install caskroom/cask/brew-cask 2> /dev/null\n",
    "```\n",
    "\n",
    "Et puis :\n",
    "```\n",
    "brew cask install pdftotext\n",
    "```"
   ],
   "cell_type": "markdown",
   "metadata": {}
  },
  {
   "source": [
    "## Convertir les PDFs en TXT"
   ],
   "cell_type": "markdown",
   "metadata": {}
  },
  {
   "cell_type": "code",
   "execution_count": 23,
   "metadata": {},
   "outputs": [],
   "source": [
    "import subprocess"
   ]
  },
  {
   "cell_type": "code",
   "execution_count": 24,
   "metadata": {},
   "outputs": [],
   "source": [
    "from pathlib import Path\n",
    "\n",
    "txt_path = '../data/txt'\n",
    "\n",
    "Path(txt_path).mkdir(parents=True, exist_ok=True)"
   ]
  },
  {
   "cell_type": "code",
   "execution_count": 25,
   "metadata": {},
   "outputs": [],
   "source": [
    "txts = [f for f in listdir(txt_path) if isfile(join(txt_path,f))]"
   ]
  },
  {
   "cell_type": "code",
   "execution_count": 26,
   "metadata": {},
   "outputs": [],
   "source": [
    "not_converted_pdfs = [p for p in pdfs if f'{p[:-3]}txt' not in txts]"
   ]
  },
  {
   "cell_type": "code",
   "execution_count": 27,
   "metadata": {},
   "outputs": [
    {
     "output_type": "execute_result",
     "data": {
      "text/plain": [
       "100"
      ]
     },
     "metadata": {},
     "execution_count": 27
    }
   ],
   "source": [
    "len(pdfs)"
   ]
  },
  {
   "cell_type": "code",
   "execution_count": 28,
   "metadata": {},
   "outputs": [
    {
     "output_type": "execute_result",
     "data": {
      "text/plain": [
       "0"
      ]
     },
     "metadata": {},
     "execution_count": 28
    }
   ],
   "source": [
    "len(txts)"
   ]
  },
  {
   "cell_type": "code",
   "execution_count": 30,
   "metadata": {},
   "outputs": [
    {
     "output_type": "execute_result",
     "data": {
      "text/plain": [
       "100"
      ]
     },
     "metadata": {},
     "execution_count": 30
    }
   ],
   "source": [
    "len(not_converted_pdfs)"
   ]
  },
  {
   "cell_type": "code",
   "execution_count": 31,
   "metadata": {
    "tags": []
   },
   "outputs": [
    {
     "output_type": "stream",
     "name": "stdout",
     "text": [
      "Bxl_1851_Tome_I1_Part_2.pdf converted!\n",
      "Bxl_1851_Tome_I1_Part_3.pdf converted!\n",
      "Bxl_1851_Tome_I1_Part_1.pdf converted!\n",
      "Bxl_1852_Tome_I1_Part_5.pdf converted!\n",
      "Bxl_1852_Tome_I1_Part_4.pdf converted!\n",
      "Bxl_1851_Tome_I1_Part_4.pdf converted!\n",
      "Bxl_1852_Tome_I1_Part_1.pdf converted!\n",
      "Bxl_1851_Tome_I1_Part_5.pdf converted!\n",
      "Bxl_1852_Tome_I1_Part_3.pdf converted!\n",
      "Bxl_1852_Tome_I1_Part_2.pdf converted!\n",
      "Bxl_1857_Tome_II1_Part_1.pdf converted!\n",
      "Bxl_1850_Tome_II1_Part_4.pdf converted!\n",
      "Bxl_1854_Tome_II1_Part_3.pdf converted!\n",
      "Bxl_1854_Tome_I1_Part_3.pdf converted!\n",
      "Bxl_1851_Tome_II1_Part_5.pdf converted!\n",
      "Bxl_1849_Tome_I1_Part_2.pdf converted!\n",
      "Bxl_1855_Tome_II1_Part_2.pdf converted!\n",
      "Bxl_1849_Tome_II1_Part_4.pdf converted!\n",
      "Bxl_1849_Tome_II1_Part_5.pdf converted!\n",
      "Bxl_1855_Tome_II1_Part_3.pdf converted!\n",
      "Bxl_1849_Tome_I1_Part_3.pdf converted!\n",
      "Bxl_1856_Tome_II1_Part_1.pdf converted!\n",
      "Bxl_1851_Tome_II1_Part_4.pdf converted!\n",
      "Bxl_1854_Tome_I1_Part_2.pdf converted!\n",
      "Bxl_1854_Tome_II1_Part_2.pdf converted!\n",
      "Bxl_1850_Tome_II1_Part_5.pdf converted!\n",
      "Bxl_1857_Tome_II1_Part_2.pdf converted!\n",
      "Bxl_1850_Tome_II1_Part_7.pdf converted!\n",
      "Bxl_1847_Tome_I1_Part_5.pdf converted!\n",
      "Bxl_1851_Tome_II1_Part_6.pdf converted!\n",
      "Bxl_1856_Tome_II1_Part_3.pdf converted!\n",
      "Bxl_1849_Tome_I1_Part_1.pdf converted!\n",
      "Bxl_1852_Tome_II1_Part_4.pdf converted!\n",
      "Bxl_1855_Tome_II1_Part_1.pdf converted!\n",
      "Bxl_1857_Tome_I1_Part_4.pdf converted!\n",
      "Bxl_1849_Tome_II1_Part_7.pdf converted!\n",
      "Bxl_1849_Tome_II1_Part_6.pdf converted!\n",
      "Bxl_1857_Tome_I1_Part_5.pdf converted!\n",
      "Bxl_1852_Tome_II1_Part_5.pdf converted!\n",
      "Bxl_1856_Tome_II1_Part_2.pdf converted!\n",
      "Bxl_1851_Tome_II1_Part_7.pdf converted!\n",
      "Bxl_1847_Tome_I1_Part_4.pdf converted!\n",
      "Bxl_1854_Tome_I1_Part_1.pdf converted!\n",
      "Bxl_1854_Tome_II1_Part_1.pdf converted!\n",
      "Bxl_1850_Tome_II1_Part_6.pdf converted!\n",
      "Bxl_1857_Tome_II1_Part_3.pdf converted!\n",
      "Bxl_1850_Tome_II1_Part_2.pdf converted!\n",
      "Bxl_1854_Tome_II1_Part_5.pdf converted!\n",
      "Bxl_1856_Tome_II1_Part_6.pdf converted!\n",
      "Bxl_1849_Tome_I1_Part_4.pdf converted!\n",
      "Bxl_1851_Tome_II1_Part_3.pdf converted!\n",
      "Bxl_1855_Tome_II1_Part_4.pdf converted!\n",
      "Bxl_1852_Tome_II1_Part_1.pdf converted!\n",
      "Bxl_1849_Tome_II1_Part_2.pdf converted!\n",
      "Bxl_1857_Tome_I1_Part_1.pdf converted!\n",
      "Bxl_1849_Tome_II1_Part_3.pdf converted!\n",
      "Bxl_1855_Tome_II1_Part_5.pdf converted!\n",
      "Bxl_1851_Tome_II1_Part_2.pdf converted!\n",
      "Bxl_1849_Tome_I1_Part_5.pdf converted!\n",
      "Bxl_1856_Tome_II1_Part_7.pdf converted!\n",
      "Bxl_1847_Tome_I1_Part_1.pdf converted!\n",
      "Bxl_1854_Tome_II1_Part_4.pdf converted!\n",
      "Bxl_1857_Tome_II1_Part_6.pdf converted!\n",
      "Bxl_1850_Tome_II1_Part_3.pdf converted!\n",
      "Bxl_1850_Tome_II1_Part_1.pdf converted!\n",
      "Bxl_1857_Tome_II1_Part_4.pdf converted!\n",
      "Bxl_1854_Tome_II1_Part_6.pdf converted!\n",
      "Bxl_1847_Tome_I1_Part_3.pdf converted!\n",
      "Bxl_1856_Tome_II1_Part_5.pdf converted!\n",
      "Bxl_1855_Tome_II1_Part_7.pdf converted!\n",
      "Bxl_1852_Tome_II1_Part_2.pdf converted!\n",
      "Bxl_1849_Tome_II1_Part_1.pdf converted!\n",
      "Bxl_1857_Tome_I1_Part_2.pdf converted!\n",
      "Bxl_1857_Tome_I1_Part_3.pdf converted!\n",
      "Bxl_1852_Tome_II1_Part_3.pdf converted!\n",
      "Bxl_1855_Tome_II1_Part_6.pdf converted!\n",
      "Bxl_1851_Tome_II1_Part_1.pdf converted!\n",
      "Bxl_1856_Tome_II1_Part_4.pdf converted!\n",
      "Bxl_1847_Tome_I1_Part_2.pdf converted!\n",
      "Bxl_1857_Tome_II1_Part_5.pdf converted!\n",
      "Bxl_1855_Tome_I1_Part_4.pdf converted!\n",
      "Bxl_1855_Tome_I1_Part_5.pdf converted!\n",
      "Bxl_1856_Tome_II1_Part_8.pdf converted!\n",
      "Bxl_1856_Tome_I1_Part_1.pdf converted!\n",
      "Bxl_1856_Tome_I1_Part_3.pdf converted!\n",
      "Bxl_1855_Tome_I1_Part_6.pdf converted!\n",
      "Bxl_1856_Tome_I1_Part_2.pdf converted!\n",
      "Bxl_1848_Tome_I1_Part_3.pdf converted!\n",
      "Bxl_1855_Tome_I1_Part_2.pdf converted!\n",
      "Bxl_1855_Tome_I1_Part_3.pdf converted!\n",
      "Bxl_1848_Tome_I1_Part_2.pdf converted!\n",
      "Bxl_1856_Tome_I1_Part_5.pdf converted!\n",
      "Bxl_1855_Tome_I1_Part_1.pdf converted!\n",
      "Bxl_1858_Tome_I1_Part_1.pdf converted!\n",
      "Bxl_1848_Tome_I1_Part_1.pdf converted!\n",
      "Bxl_1856_Tome_I1_Part_4.pdf converted!\n",
      "Bxl_1850_Tome_I1_Part_4.pdf converted!\n",
      "Bxl_1850_Tome_I1_Part_3.pdf converted!\n",
      "Bxl_1850_Tome_I1_Part_2.pdf converted!\n",
      "Bxl_1850_Tome_I1_Part_1.pdf converted!\n"
     ]
    }
   ],
   "source": [
    "for pdf in pdfs:\n",
    "    command = [\n",
    "        'pdftotext',\n",
    "        f'{pdf_path}/{pdf}',\n",
    "        f'{txt_path}/{pdf[:-3]}txt'\n",
    "    ]\n",
    "    subprocess.run(command, capture_output=True)\n",
    "    print(f\"{pdf} converted!\")\n",
    "    "
   ]
  },
  {
   "source": [
    "## Consolider tous les fichiers en un (Bash)"
   ],
   "cell_type": "markdown",
   "metadata": {}
  },
  {
   "cell_type": "code",
   "execution_count": 32,
   "metadata": {
    "tags": []
   },
   "outputs": [],
   "source": [
    "!cat ../data/txt/*.txt > ../data/all.txt"
   ]
  },
  {
   "source": [
    "## Compter le nombre de mots"
   ],
   "cell_type": "markdown",
   "metadata": {}
  },
  {
   "cell_type": "code",
   "execution_count": 33,
   "metadata": {
    "tags": []
   },
   "outputs": [
    {
     "output_type": "stream",
     "name": "stdout",
     "text": [
      "  147140 4875580 21138004 ../data/all.txt\n"
     ]
    }
   ],
   "source": [
    "!wc ../data/all.txt"
   ]
  },
  {
   "cell_type": "code",
   "execution_count": null,
   "metadata": {},
   "outputs": [],
   "source": []
  }
 ]
}