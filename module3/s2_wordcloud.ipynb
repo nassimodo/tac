{
 "metadata": {
  "language_info": {
   "codemirror_mode": {
    "name": "ipython",
    "version": 3
   },
   "file_extension": ".py",
   "mimetype": "text/x-python",
   "name": "python",
   "nbconvert_exporter": "python",
   "pygments_lexer": "ipython3",
<<<<<<< HEAD
   "version": "3.8.2-final"
  },
  "orig_nbformat": 2,
  "kernelspec": {
   "name": "Python 3.8.2 64-bit",
   "display_name": "Python 3.8.2 64-bit",
   "metadata": {
    "interpreter": {
     "hash": "31f2aee4e71d21fbe5cf8b01ff0e069b9275f58929596ceb00d14d90e3e16cd6"
=======
   "version": "3.8.6-final"
  },
  "orig_nbformat": 2,
  "kernelspec": {
   "name": "Python 3.8.6 64-bit ('venv': virtualenv)",
   "display_name": "Python 3.8.6 64-bit ('venv': virtualenv)",
   "metadata": {
    "interpreter": {
     "hash": "0db3faaa3df0159b5bafcd6d260557c66dc7ed2363d564044ba237865e0e2379"
>>>>>>> upstream/master
    }
   }
  }
 },
 "nbformat": 4,
 "nbformat_minor": 2,
 "cells": [
  {
   "source": [
    "# Building a wordcloud based on one year of bulletins"
   ],
   "cell_type": "markdown",
   "metadata": {}
  },
  {
   "source": [
    "## Créer un fichier contenant les bulletins d'une année donnée"
   ],
   "cell_type": "markdown",
   "metadata": {}
  },
  {
   "cell_type": "code",
<<<<<<< HEAD
   "execution_count": 2,
=======
   "execution_count": null,
>>>>>>> upstream/master
   "metadata": {},
   "outputs": [],
   "source": [
    "# Choisir une année\n",
    "\n",
    "YEAR = 1847"
   ]
  },
  {
   "cell_type": "code",
<<<<<<< HEAD
   "execution_count": 4,
=======
   "execution_count": null,
>>>>>>> upstream/master
   "metadata": {},
   "outputs": [],
   "source": [
    "# Lister les fichiers de cette année\n",
    "\n",
    "from os import listdir\n",
    "from os.path import isfile, join\n",
    "\n",
<<<<<<< HEAD
    "txt_path = '../devoir 2/bulletins'\n",
    "\n",
    "txts = [f for f in listdir(txt_path) if isfile(join(txt_path, f)) and str(YEAR) in f]"
=======
    "data_path = '../data'\n",
    "txt_path = '../data/txt'\n",
    "txts = [f for f in listdir(txt_path) if isfile(join(txt_path, f)) and str(YEAR) in f]\n",
    "txts"
>>>>>>> upstream/master
   ]
  },
  {
   "cell_type": "code",
<<<<<<< HEAD
   "execution_count": 7,
   "metadata": {},
   "outputs": [
    {
     "output_type": "execute_result",
     "data": {
      "text/plain": [
       "['Bxl_1847_Tome_I1_Part_5.txt',\n",
       " 'Bxl_1847_Tome_I1_Part_4.txt',\n",
       " 'Bxl_1847_Tome_I1_Part_3.txt',\n",
       " 'Bxl_1847_Tome_I1_Part_2.txt',\n",
       " 'Bxl_1847_Tome_I1_Part_1.txt']"
      ]
     },
     "metadata": {},
     "execution_count": 7
    }
   ],
   "source": [
    "txts"
   ]
  },
  {
   "cell_type": "code",
   "execution_count": 5,
   "metadata": {},
=======
   "execution_count": null,
   "metadata": {
    "tags": []
   },
>>>>>>> upstream/master
   "outputs": [],
   "source": [
    "# Stocker le contenu de ces fichiers dans une liste\n",
    "\n",
    "content_list = []\n",
    "for txt in txts:\n",
    "    with open(f'{txt_path}/{txt}', encoding='utf-8') as f:\n",
    "        content_list.append(f.read())"
   ]
  },
  {
   "cell_type": "code",
   "execution_count": null,
   "metadata": {},
   "outputs": [],
   "source": [
    "# Vérifier le nombre de contenus collectés\n",
    "\n",
    "len(content_list)"
   ]
  },
  {
   "cell_type": "code",
   "execution_count": null,
   "metadata": {},
   "outputs": [],
   "source": [
    "# Imprimer les 200 premiers caractères du contenu du premier fichier\n",
    "\n",
    "content_list[0][:200]"
   ]
  },
  {
   "cell_type": "code",
   "execution_count": null,
   "metadata": {},
   "outputs": [],
   "source": [
    "# Ecrire tout le contenu dans un fichier\n",
    "\n",
    "with open(f'tmp/{YEAR}.txt', 'w', encoding='utf-8') as f:\n",
    "    f.write(' '.join(content_list))"
   ]
  },
  {
   "cell_type": "code",
   "execution_count": 8,
   "metadata": {},
   "outputs": [
    {
     "output_type": "execute_result",
     "data": {
      "text/plain": [
       "5"
      ]
     },
     "metadata": {},
     "execution_count": 8
    }
   ],
   "source": [
    "len(content_list)"
   ]
  },
  {
   "cell_type": "code",
   "execution_count": 9,
   "metadata": {},
   "outputs": [
    {
     "output_type": "execute_result",
     "data": {
      "text/plain": [
       "\"â\\x80\\x94 397 â\\x80\\x94\\nfr. 00,000 dans une ville qui compte cent mille Ames. On ne reÃ§oit au dÃ©pÃ´t\\nque ceux que l'Ã¢ge, les infirmitÃ©s, ou l'isolement ont rÃ©duits Ã\\xa0 une indigence\\nimpossible Ã\\xa0 combattre et\""
      ]
     },
     "metadata": {},
     "execution_count": 9
    }
   ],
   "source": [
    "content_list[0][:200]"
   ]
  },
  {
   "source": [
    "## Enlever les stopwords, les mots courts et non alphabétiques et stocker le résultat dans un nouveau fichier"
   ],
   "cell_type": "markdown",
   "metadata": {}
  },
  {
   "cell_type": "code",
<<<<<<< HEAD
   "execution_count": 10,
=======
   "execution_count": null,
   "metadata": {},
   "outputs": [],
   "source": [
    "# Imprimer le contenu du fichier et constater les \"déchets\"\n",
    "\n",
    "with open(f'tmp/{YEAR}.txt', 'r') as f:\n",
    "    before = f.read()\n",
    "\n",
    "before[:500]"
   ]
  },
  {
   "cell_type": "code",
   "execution_count": null,
>>>>>>> upstream/master
   "metadata": {
    "tags": []
   },
   "outputs": [],
   "source": [
    "# Appliquer la fonction filtering (que vous pouvez customiser)\n",
    "\n",
    "from filtering import filtering\n",
    "\n",
    "filtering(YEAR, folder='tmp')"
   ]
  },
  {
   "cell_type": "code",
   "execution_count": null,
   "metadata": {},
   "outputs": [],
   "source": [
    "# Vérifier le résultat\n",
    "\n",
    "with open(f'tmp/{YEAR}_keywords.txt', 'r') as f:\n",
    "    after = f.read()\n",
    "\n",
    "after[:500]"
   ]
  },
  {
   "cell_type": "code",
   "execution_count": 13,
   "metadata": {},
   "outputs": [
    {
     "output_type": "execute_result",
     "data": {
      "text/plain": [
       "'ville compte cent mille ames reã oit ceux infirmitã isolement duits indigence impossible combattre galement constatã trouve fort peu reclus parce mendians domicile secours bordeaux livrã justice dirigã vers domicile expiration peine tablissement fois prã ventif pressif mendians sonl conduits expiration peine admis ordre exprã maire taris partement seine maison spã ciale prã vention prã fecture police recueille gens asile nombre moyenne provisoire denis pression finitive villers coteret partement'"
      ]
     },
     "metadata": {},
     "execution_count": 13
    }
   ],
   "source": [
    "with open(f'{YEAR}_keywords.txt' , 'r') as f:\n",
    "    after = f.read()\n",
    "after[:500]"
   ]
  },
  {
   "source": [
    "## Créer le word cloud"
   ],
   "cell_type": "markdown",
   "metadata": {}
  },
  {
   "cell_type": "code",
<<<<<<< HEAD
   "execution_count": 15,
   "metadata": {},
   "outputs": [
    {
     "output_type": "execute_result",
     "data": {
      "text/plain": [
       "CompletedProcess(args=['wordcloud_cli', '--text', '1847_keywords.txt', '--imagefile', '1847.png', '--width', '2000', '--height', '1000'], returncode=0, stdout=b'', stderr=b'')"
      ]
     },
     "metadata": {},
     "execution_count": 15
    }
   ],
=======
   "execution_count": null,
   "metadata": {},
   "outputs": [],
>>>>>>> upstream/master
   "source": [
    "import subprocess\n",
    "\n",
    "command = [\n",
    "    'wordcloud_cli',\n",
    "    '--text', f'tmp/{YEAR}_keywords.txt',\n",
    "    '--imagefile', f'tmp/{YEAR}.png',\n",
    "    '--width', '2000',\n",
    "    '--height', '1000',\n",
    "]\n",
    "\n",
    "subprocess.run(command, capture_output=True)"
   ]
  },
  {
   "source": [
    "## Afficher le word cloud"
   ],
   "cell_type": "markdown",
   "metadata": {}
  },
  {
   "cell_type": "code",
   "execution_count": null,
   "metadata": {},
   "outputs": [],
   "source": [
    "from IPython.display import Image\n",
    "\n",
    "Image(filename=f'tmp/{YEAR}.png')"
   ]
  }
 ]
}